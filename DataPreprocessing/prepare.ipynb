{
 "cells": [
  {
   "cell_type": "code",
   "execution_count": 6,
   "id": "dfaefa1d",
   "metadata": {},
   "outputs": [],
   "source": [
    "import os\n",
    "from pydub import AudioSegment\n",
    "from pathlib import Path\n",
    "import csv"
   ]
  },
  {
   "cell_type": "code",
   "execution_count": 7,
   "id": "4b3481bb",
   "metadata": {},
   "outputs": [],
   "source": [
    "dataset_root = \"/home/dl/G11/dataset\"\n",
    "input_dir = \"/home/dl/G11/dataset/original/LanguageDetectionDataset\"\n",
    "output_dir = \"/home/dl/G11/dataset/processed_dataset\"\n",
    "csv_path = os.path.join(dataset_root, \"labels.csv\")\n",
    "os.makedirs(output_dir, exist_ok=True)"
   ]
  },
  {
   "cell_type": "code",
   "execution_count": 8,
   "id": "1cf1451b",
   "metadata": {},
   "outputs": [
    {
     "name": "stdout",
     "output_type": "stream",
     "text": [
      "✔ All files processed and saved as .mp3 in 'processed_dataset/'\n",
      "📄 CSV file 'labels.csv' created with filename-label mapping.\n"
     ]
    }
   ],
   "source": [
    "with open(csv_path, mode='w', newline='') as csv_file:\n",
    "    writer = csv.writer(csv_file)\n",
    "    writer.writerow([\"filename\", \"label\"])  # header\n",
    "\n",
    "    # Process each class folder\n",
    "    for class_folder in os.listdir(input_dir):\n",
    "        class_path = os.path.join(input_dir, class_folder)\n",
    "        if os.path.isdir(class_path):\n",
    "            files = [f for f in os.listdir(class_path) if f.endswith(('.mp3', '.wav'))]\n",
    "            files = sorted(files)[:100]  # Limit to 100 per class\n",
    "\n",
    "            for fname in files:\n",
    "                src_path = os.path.join(class_path, fname)\n",
    "                dst_name = f\"{class_folder}_{Path(fname).stem}.mp3\"\n",
    "                dst_path = os.path.join(output_dir, dst_name)\n",
    "\n",
    "                # Load and convert to mp3\n",
    "                audio = AudioSegment.from_file(src_path)\n",
    "                audio.export(dst_path, format=\"mp3\")\n",
    "\n",
    "                # Write to CSV\n",
    "                writer.writerow([dst_name, class_folder])\n",
    "\n",
    "print(\"✔ All files processed and saved as .mp3 in 'processed_dataset/'\")\n",
    "print(\"📄 CSV file 'labels.csv' created with filename-label mapping.\")"
   ]
  },
  {
   "cell_type": "code",
   "execution_count": null,
   "id": "e6b2bc93",
   "metadata": {},
   "outputs": [],
   "source": []
  }
 ],
 "metadata": {
  "kernelspec": {
   "display_name": "audioenv",
   "language": "python",
   "name": "python3"
  },
  "language_info": {
   "codemirror_mode": {
    "name": "ipython",
    "version": 3
   },
   "file_extension": ".py",
   "mimetype": "text/x-python",
   "name": "python",
   "nbconvert_exporter": "python",
   "pygments_lexer": "ipython3",
   "version": "3.9.18"
  }
 },
 "nbformat": 4,
 "nbformat_minor": 5
}
